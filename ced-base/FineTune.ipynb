{
 "cells": [
  {
   "cell_type": "markdown",
   "id": "e736f735-f01c-4245-a296-94cd38c8c196",
   "metadata": {},
   "source": [
    "**Even though it's mentioned on huggingface that ced-base supports variable length audios for fine tuning it doesn't!**"
   ]
  },
  {
   "cell_type": "code",
   "execution_count": 1,
   "id": "9dc352de-f7eb-4b47-9c73-d9d94f49a935",
   "metadata": {},
   "outputs": [],
   "source": [
    "from ced_model.feature_extraction_ced import CedFeatureExtractor\n",
    "from transformers import Trainer, TrainingArguments\n",
    "from datasets import load_dataset, Audio, concatenate_datasets, Dataset\n",
    "import numpy as np\n",
    "import torch\n",
    "import json\n",
    "import evaluate"
   ]
  },
  {
   "cell_type": "code",
   "execution_count": 2,
   "id": "406ffc8d-8186-4c61-ab77-5b64cf17a8f5",
   "metadata": {},
   "outputs": [],
   "source": [
    "with open(\"../config.json\", mode = \"r\") as f:\n",
    "    data = json.load(f)\n",
    "    SAMPLING_RATE = data[\"sampling_rate\"]\n",
    "    SEGMENT_LEN = data[\"segment_length\"]\n",
    "    OVERLAP_LEN = data[\"overlap_length\"]"
   ]
  },
  {
   "cell_type": "code",
   "execution_count": 3,
   "id": "1dcca2e1-c231-43d7-be05-04671efcf23f",
   "metadata": {},
   "outputs": [
    {
     "name": "stderr",
     "output_type": "stream",
     "text": [
      "/users/labnet5/gr5/abahari/Documents/Fridays/BirdCallLabeling/env-labeling/lib/python3.11/site-packages/huggingface_hub/file_download.py:797: FutureWarning: `resume_download` is deprecated and will be removed in version 1.0.0. Downloads always resume when possible. If you want to force a new download, use `force_download=True`.\n",
      "  warnings.warn(\n"
     ]
    },
    {
     "data": {
      "application/vnd.jupyter.widget-view+json": {
       "model_id": "66b55ff47905452bafa5d1a8cbe69253",
       "version_major": 2,
       "version_minor": 0
      },
      "text/plain": [
       "preprocessor_config.json:   0%|          | 0.00/290 [00:00<?, ?B/s]"
      ]
     },
     "metadata": {},
     "output_type": "display_data"
    }
   ],
   "source": [
    "extractor = CedFeatureExtractor.from_pretrained(\"mispeech/ced-base\")"
   ]
  },
  {
   "cell_type": "code",
   "execution_count": null,
   "id": "179344f2-c2b0-4d5d-a7fe-88157539633b",
   "metadata": {},
   "outputs": [],
   "source": [
    "dataset = load_dataset(\"Saads/xecanto_birds\", split = \"train\")"
   ]
  },
  {
   "cell_type": "code",
   "execution_count": 5,
   "id": "2ab980c1-4485-4865-a215-8082cd3cec25",
   "metadata": {},
   "outputs": [
    {
     "data": {
      "text/plain": [
       "Dataset({\n",
       "    features: ['audio', 'common_name'],\n",
       "    num_rows: 11031\n",
       "})"
      ]
     },
     "execution_count": 5,
     "metadata": {},
     "output_type": "execute_result"
    }
   ],
   "source": [
    "dataset = dataset.remove_columns([\n",
    "    \"primary_label\",\n",
    "    \"secondary_labels\",\n",
    "    \"scientific_name\",\n",
    "    \"author\",\n",
    "    \"license\",\n",
    "    \"rating\",\n",
    "    \"type\",\n",
    "    \"latitude\",\n",
    "    \"longitude\",\n",
    "    \"url\"\n",
    "])\n",
    "dataset"
   ]
  },
  {
   "cell_type": "code",
   "execution_count": 6,
   "id": "6f8571ba-3567-433c-a429-9ef1997fdbbe",
   "metadata": {},
   "outputs": [
    {
     "data": {
      "text/plain": [
       "{'audio': [{'path': '/users/labnet5/gr5/abahari/.cache/huggingface/hub/datasets--Saads--xecanto_birds/snapshots/a0cca0425468f94c84acd14479327b43c3c06084/abethr1/XC128013.ogg',\n",
       "   'array': array([-6.02842738e-06,  1.55201872e-06, -9.41774886e-07, ...,\n",
       "          -1.04878731e-04,  9.59840952e-04,  9.13573662e-04]),\n",
       "   'sampling_rate': 32000},\n",
       "  {'path': '/users/labnet5/gr5/abahari/.cache/huggingface/hub/datasets--Saads--xecanto_birds/snapshots/a0cca0425468f94c84acd14479327b43c3c06084/abethr1/XC363501.ogg',\n",
       "   'array': array([ 1.26495331e-06,  2.67615587e-06,  1.60536308e-06, ...,\n",
       "          -2.96967191e-05,  5.09194106e-05,  1.82838030e-05]),\n",
       "   'sampling_rate': 32000},\n",
       "  {'path': '/users/labnet5/gr5/abahari/.cache/huggingface/hub/datasets--Saads--xecanto_birds/snapshots/a0cca0425468f94c84acd14479327b43c3c06084/abethr1/XC363502.ogg',\n",
       "   'array': array([ 4.54875226e-06,  3.57464123e-05, -4.50542643e-07, ...,\n",
       "           5.83382962e-06, -1.26050472e-05,  2.66156712e-06]),\n",
       "   'sampling_rate': 32000}],\n",
       " 'common_name': ['African Bare-eyed Thrush',\n",
       "  'African Bare-eyed Thrush',\n",
       "  'African Bare-eyed Thrush']}"
      ]
     },
     "execution_count": 6,
     "metadata": {},
     "output_type": "execute_result"
    }
   ],
   "source": [
    "dataset[0:3]"
   ]
  },
  {
   "cell_type": "code",
   "execution_count": 7,
   "id": "bbaea403-0621-42af-bfd9-5a7c1a35573f",
   "metadata": {},
   "outputs": [],
   "source": [
    "def count_chunks(audio_array, chunk_length = SEGMENT_LEN, overlap = OVERLAP_LEN):\n",
    "    chunk_length = chunk_length * SAMPLING_RATE\n",
    "    overlap = overlap * SAMPLING_RATE\n",
    "\n",
    "    counter = 0\n",
    "    start = 0\n",
    "    while start + chunk_length <= len(audio_array):\n",
    "        counter += 1\n",
    "        start += (chunk_length - overlap)\n",
    "    \n",
    "    if start < len(audio_array):\n",
    "        counter += 1\n",
    "    \n",
    "    return counter"
   ]
  },
  {
   "cell_type": "code",
   "execution_count": 8,
   "id": "8c47558e-977f-4b77-9896-eeb7710ced40",
   "metadata": {},
   "outputs": [],
   "source": [
    "def get_count_chunks(row):\n",
    "    counter = count_chunks(row[\"audio\"][\"array\"])\n",
    "    return {\"num_audio_chunks\": counter}"
   ]
  },
  {
   "cell_type": "code",
   "execution_count": 9,
   "id": "f11ed433-3af7-4fde-a7a7-7d2be251cf37",
   "metadata": {},
   "outputs": [
    {
     "data": {
      "application/vnd.jupyter.widget-view+json": {
       "model_id": "19c080baf992434591204cdb51a8826b",
       "version_major": 2,
       "version_minor": 0
      },
      "text/plain": [
       "Map (num_proc=16):   0%|          | 0/11031 [00:00<?, ? examples/s]"
      ]
     },
     "metadata": {},
     "output_type": "display_data"
    }
   ],
   "source": [
    "dataset = dataset.cast_column(\"audio\", Audio(sampling_rate = SAMPLING_RATE))\n",
    "dataset_chunked = dataset.map(\n",
    "    get_count_chunks,\n",
    "    remove_columns = \"audio\",\n",
    "    batched = False,\n",
    "    num_proc = 16,\n",
    "    writer_batch_size = 1000\n",
    ")"
   ]
  },
  {
   "cell_type": "code",
   "execution_count": 10,
   "id": "6c02df6f-0044-429a-acfa-7b57a250d51a",
   "metadata": {},
   "outputs": [
    {
     "data": {
      "text/html": [
       "<div>\n",
       "<style scoped>\n",
       "    .dataframe tbody tr th:only-of-type {\n",
       "        vertical-align: middle;\n",
       "    }\n",
       "\n",
       "    .dataframe tbody tr th {\n",
       "        vertical-align: top;\n",
       "    }\n",
       "\n",
       "    .dataframe thead th {\n",
       "        text-align: right;\n",
       "    }\n",
       "</style>\n",
       "<table border=\"1\" class=\"dataframe\">\n",
       "  <thead>\n",
       "    <tr style=\"text-align: right;\">\n",
       "      <th></th>\n",
       "      <th>common_name</th>\n",
       "      <th>num_audio_chunks</th>\n",
       "    </tr>\n",
       "  </thead>\n",
       "  <tbody>\n",
       "    <tr>\n",
       "      <th>0</th>\n",
       "      <td>Thrush Nightingale</td>\n",
       "      <td>1187</td>\n",
       "    </tr>\n",
       "    <tr>\n",
       "      <th>1</th>\n",
       "      <td>Lawrence's Goldfinch</td>\n",
       "      <td>926</td>\n",
       "    </tr>\n",
       "    <tr>\n",
       "      <th>2</th>\n",
       "      <td>Common Buzzard</td>\n",
       "      <td>894</td>\n",
       "    </tr>\n",
       "    <tr>\n",
       "      <th>3</th>\n",
       "      <td>Common House-Martin</td>\n",
       "      <td>881</td>\n",
       "    </tr>\n",
       "    <tr>\n",
       "      <th>4</th>\n",
       "      <td>Willow Warbler</td>\n",
       "      <td>871</td>\n",
       "    </tr>\n",
       "    <tr>\n",
       "      <th>...</th>\n",
       "      <td>...</td>\n",
       "      <td>...</td>\n",
       "    </tr>\n",
       "    <tr>\n",
       "      <th>259</th>\n",
       "      <td>Red-headed Bluebill</td>\n",
       "      <td>3</td>\n",
       "    </tr>\n",
       "    <tr>\n",
       "      <th>260</th>\n",
       "      <td>Goliath Heron</td>\n",
       "      <td>2</td>\n",
       "    </tr>\n",
       "    <tr>\n",
       "      <th>261</th>\n",
       "      <td>White-headed Sawwing</td>\n",
       "      <td>2</td>\n",
       "    </tr>\n",
       "    <tr>\n",
       "      <th>262</th>\n",
       "      <td>White-crested Turaco</td>\n",
       "      <td>1</td>\n",
       "    </tr>\n",
       "    <tr>\n",
       "      <th>263</th>\n",
       "      <td>African Pygmy Kingfisher</td>\n",
       "      <td>1</td>\n",
       "    </tr>\n",
       "  </tbody>\n",
       "</table>\n",
       "<p>264 rows × 2 columns</p>\n",
       "</div>"
      ],
      "text/plain": [
       "                  common_name  num_audio_chunks\n",
       "0          Thrush Nightingale              1187\n",
       "1        Lawrence's Goldfinch               926\n",
       "2              Common Buzzard               894\n",
       "3         Common House-Martin               881\n",
       "4              Willow Warbler               871\n",
       "..                        ...               ...\n",
       "259       Red-headed Bluebill                 3\n",
       "260             Goliath Heron                 2\n",
       "261      White-headed Sawwing                 2\n",
       "262      White-crested Turaco                 1\n",
       "263  African Pygmy Kingfisher                 1\n",
       "\n",
       "[264 rows x 2 columns]"
      ]
     },
     "execution_count": 10,
     "metadata": {},
     "output_type": "execute_result"
    }
   ],
   "source": [
    "df_chunked = dataset_chunked.to_pandas()\n",
    "df_chunked = df_chunked.groupby(\n",
    "    \"common_name\",\n",
    "    as_index = False\n",
    ").sum().sort_values(\n",
    "    by = \"num_audio_chunks\",\n",
    "    ascending = False\n",
    ").reset_index(\n",
    "    drop = True\n",
    ")\n",
    "df_chunked"
   ]
  },
  {
   "cell_type": "code",
   "execution_count": 11,
   "id": "b7474f98-1c5e-4e3d-aab3-a382a7016189",
   "metadata": {},
   "outputs": [
    {
     "data": {
      "text/plain": [
       "54"
      ]
     },
     "execution_count": 11,
     "metadata": {},
     "output_type": "execute_result"
    }
   ],
   "source": [
    "selected_labels = df_chunked[df_chunked[\"num_audio_chunks\"] >= 350][\"common_name\"].to_list()\n",
    "len(selected_labels)"
   ]
  },
  {
   "cell_type": "code",
   "execution_count": 12,
   "id": "1efc1ee1-4d24-4005-998c-d55055495e04",
   "metadata": {},
   "outputs": [
    {
     "data": {
      "application/vnd.jupyter.widget-view+json": {
       "model_id": "23659a0c59884ac99967baec1dc537c6",
       "version_major": 2,
       "version_minor": 0
      },
      "text/plain": [
       "Filter (num_proc=4):   0%|          | 0/11031 [00:00<?, ? examples/s]"
      ]
     },
     "metadata": {},
     "output_type": "display_data"
    }
   ],
   "source": [
    "dataset = dataset.filter(\n",
    "    lambda row: row[\"common_name\"] in selected_labels,\n",
    "    batched = False,\n",
    "    num_proc = 4,\n",
    "    writer_batch_size = 50\n",
    ")"
   ]
  },
  {
   "cell_type": "code",
   "execution_count": 13,
   "id": "1ca39030-e1c2-444d-93ea-ab7146deb175",
   "metadata": {},
   "outputs": [],
   "source": [
    "def extract_chunked_audio(audio_array, chunk_length = SEGMENT_LEN, overlap = OVERLAP_LEN):\n",
    "    chunk_length = chunk_length * SAMPLING_RATE\n",
    "    overlap = overlap * SAMPLING_RATE\n",
    "    \n",
    "    chunks = []\n",
    "    start = 0\n",
    "    while start + chunk_length <= len(audio_array):\n",
    "        chunks.append(\n",
    "            extractor(\n",
    "                audio_array[start : start + chunk_length],\n",
    "                sampling_rate = SAMPLING_RATE,\n",
    "                max_length = chunk_length,\n",
    "                truncation = True\n",
    "            )[\"input_values\"].squeeze(0)\n",
    "        )\n",
    "        start += (chunk_length - overlap)\n",
    "    \n",
    "    if start < len(audio_array):\n",
    "        last_chunk = audio_array[start:]\n",
    "        padded_last_chunk = np.pad(last_chunk, (0, chunk_length - len(last_chunk)))\n",
    "        chunks.append(\n",
    "            extractor(\n",
    "                padded_last_chunk,\n",
    "                sampling_rate = SAMPLING_RATE,\n",
    "                max_length = chunk_length,\n",
    "                truncation = True\n",
    "            )[\"input_values\"].squeeze(0)\n",
    "        )\n",
    "    \n",
    "    return chunks"
   ]
  },
  {
   "cell_type": "code",
   "execution_count": 14,
   "id": "81d6b44b-62ad-4645-93fd-337c74b418eb",
   "metadata": {},
   "outputs": [],
   "source": [
    "def preprocess(row):\n",
    "    chunked_batched_data = {}\n",
    "    inputs = extract_chunked_audio(row[\"audio\"][\"array\"])\n",
    "    chunked_batched_data[\"input_values\"] = inputs\n",
    "    chunked_batched_data[\"common_name\"] = [row[\"common_name\"]] * len(inputs)\n",
    "    return chunked_batched_data"
   ]
  },
  {
   "cell_type": "code",
   "execution_count": 15,
   "id": "2df62526-5ff5-4615-bd67-7e20dadc7878",
   "metadata": {},
   "outputs": [],
   "source": [
    "def concate(batch):\n",
    "   return {\n",
    "       \"concate_input_values\": [chunk for chunks in batch[\"input_values\"] for chunk in chunks],\n",
    "       \"chunked_common_name\": [label for chunks in batch[\"common_name\"] for label in chunks]\n",
    "   }"
   ]
  },
  {
   "cell_type": "code",
   "execution_count": 16,
   "id": "aec4ae6a-c2dd-4005-907f-5f2882c1614d",
   "metadata": {},
   "outputs": [
    {
     "data": {
      "application/vnd.jupyter.widget-view+json": {
       "model_id": "a336f2dab7cc4c58a89dcdf62532d450",
       "version_major": 2,
       "version_minor": 0
      },
      "text/plain": [
       "Map (num_proc=16):   0%|          | 0/5080 [00:00<?, ? examples/s]"
      ]
     },
     "metadata": {},
     "output_type": "display_data"
    },
    {
     "data": {
      "application/vnd.jupyter.widget-view+json": {
       "model_id": "a78737e8766442cd9d9f34d12e96a2ee",
       "version_major": 2,
       "version_minor": 0
      },
      "text/plain": [
       "Map (num_proc=16):   0%|          | 0/5080 [00:00<?, ? examples/s]"
      ]
     },
     "metadata": {},
     "output_type": "display_data"
    },
    {
     "data": {
      "text/plain": [
       "64"
      ]
     },
     "execution_count": 16,
     "metadata": {},
     "output_type": "execute_result"
    }
   ],
   "source": [
    "# dataset = dataset.cast_column(\"audio\", Audio(sampling_rate = SAMPLING_RATE))\n",
    "dataset = dataset.map(\n",
    "    preprocess,\n",
    "    remove_columns = \"audio\",\n",
    "    batched = False,\n",
    "    num_proc = 16,\n",
    "    writer_batch_size = 500\n",
    ")\n",
    "dataset = dataset.map(\n",
    "    concate,\n",
    "    remove_columns = [\"input_values\", \"common_name\"],\n",
    "    batched = True,\n",
    "    batch_size = 16,\n",
    "    num_proc = 16,\n",
    "    writer_batch_size = 500\n",
    ")\n",
    "len(dataset[0][\"concate_input_values\"])"
   ]
  },
  {
   "cell_type": "code",
   "execution_count": 17,
   "id": "032de365-9304-402e-a941-e94405ff9466",
   "metadata": {},
   "outputs": [],
   "source": [
    "dataset = dataset.rename_column(\"concate_input_values\", \"input_values\")\n",
    "dataset = dataset.rename_column(\"chunked_common_name\", \"label\")\n",
    "dataset = dataset.shuffle(seed = 42)"
   ]
  },
  {
   "cell_type": "code",
   "execution_count": 18,
   "id": "207d1a87-af3c-4fc9-a199-bb62f88356fa",
   "metadata": {},
   "outputs": [
    {
     "data": {
      "application/vnd.jupyter.widget-view+json": {
       "model_id": "f384e445d7f6492ea6d89e08dc8f8bd2",
       "version_major": 2,
       "version_minor": 0
      },
      "text/plain": [
       "Filter (num_proc=8):   0%|          | 0/28284 [00:00<?, ? examples/s]"
      ]
     },
     "metadata": {},
     "output_type": "display_data"
    },
    {
     "data": {
      "application/vnd.jupyter.widget-view+json": {
       "model_id": "e3386f7c68cf46a396a8cd6d019934a6",
       "version_major": 2,
       "version_minor": 0
      },
      "text/plain": [
       "Filter (num_proc=8):   0%|          | 0/28284 [00:00<?, ? examples/s]"
      ]
     },
     "metadata": {},
     "output_type": "display_data"
    },
    {
     "data": {
      "application/vnd.jupyter.widget-view+json": {
       "model_id": "3e37659bc7fa4312a888edfa038921fe",
       "version_major": 2,
       "version_minor": 0
      },
      "text/plain": [
       "Filter (num_proc=8):   0%|          | 0/28284 [00:00<?, ? examples/s]"
      ]
     },
     "metadata": {},
     "output_type": "display_data"
    },
    {
     "data": {
      "application/vnd.jupyter.widget-view+json": {
       "model_id": "860bcb5725a64e4eb1436ffde5f1ceb3",
       "version_major": 2,
       "version_minor": 0
      },
      "text/plain": [
       "Filter (num_proc=8):   0%|          | 0/28284 [00:00<?, ? examples/s]"
      ]
     },
     "metadata": {},
     "output_type": "display_data"
    },
    {
     "data": {
      "application/vnd.jupyter.widget-view+json": {
       "model_id": "6c8988815a864da9b8e90344d7cabd13",
       "version_major": 2,
       "version_minor": 0
      },
      "text/plain": [
       "Filter (num_proc=8):   0%|          | 0/28284 [00:00<?, ? examples/s]"
      ]
     },
     "metadata": {},
     "output_type": "display_data"
    },
    {
     "data": {
      "application/vnd.jupyter.widget-view+json": {
       "model_id": "00650884a5454b2c868b2a61b2541084",
       "version_major": 2,
       "version_minor": 0
      },
      "text/plain": [
       "Filter (num_proc=8):   0%|          | 0/28284 [00:00<?, ? examples/s]"
      ]
     },
     "metadata": {},
     "output_type": "display_data"
    },
    {
     "data": {
      "application/vnd.jupyter.widget-view+json": {
       "model_id": "70ec8226e6844b24b9bb22cbedb618c4",
       "version_major": 2,
       "version_minor": 0
      },
      "text/plain": [
       "Filter (num_proc=8):   0%|          | 0/28284 [00:00<?, ? examples/s]"
      ]
     },
     "metadata": {},
     "output_type": "display_data"
    },
    {
     "data": {
      "application/vnd.jupyter.widget-view+json": {
       "model_id": "d3ea8a45e9fa4286b9e940ae61d45231",
       "version_major": 2,
       "version_minor": 0
      },
      "text/plain": [
       "Filter (num_proc=8):   0%|          | 0/28284 [00:00<?, ? examples/s]"
      ]
     },
     "metadata": {},
     "output_type": "display_data"
    },
    {
     "data": {
      "application/vnd.jupyter.widget-view+json": {
       "model_id": "a674b308e9e942a8a737f8ff113aa354",
       "version_major": 2,
       "version_minor": 0
      },
      "text/plain": [
       "Filter (num_proc=8):   0%|          | 0/28284 [00:00<?, ? examples/s]"
      ]
     },
     "metadata": {},
     "output_type": "display_data"
    },
    {
     "data": {
      "application/vnd.jupyter.widget-view+json": {
       "model_id": "e460e958f1f3423f8eb48f39176bdff6",
       "version_major": 2,
       "version_minor": 0
      },
      "text/plain": [
       "Filter (num_proc=8):   0%|          | 0/28284 [00:00<?, ? examples/s]"
      ]
     },
     "metadata": {},
     "output_type": "display_data"
    },
    {
     "data": {
      "application/vnd.jupyter.widget-view+json": {
       "model_id": "82a2b6c1a4df4af8a713a24439dbf0df",
       "version_major": 2,
       "version_minor": 0
      },
      "text/plain": [
       "Filter (num_proc=8):   0%|          | 0/28284 [00:00<?, ? examples/s]"
      ]
     },
     "metadata": {},
     "output_type": "display_data"
    },
    {
     "data": {
      "application/vnd.jupyter.widget-view+json": {
       "model_id": "de54274af2794b16a67e73d30f8e8d4f",
       "version_major": 2,
       "version_minor": 0
      },
      "text/plain": [
       "Filter (num_proc=8):   0%|          | 0/28284 [00:00<?, ? examples/s]"
      ]
     },
     "metadata": {},
     "output_type": "display_data"
    },
    {
     "data": {
      "application/vnd.jupyter.widget-view+json": {
       "model_id": "c333995463bb4d7b993c31ecf81cd907",
       "version_major": 2,
       "version_minor": 0
      },
      "text/plain": [
       "Filter (num_proc=8):   0%|          | 0/28284 [00:00<?, ? examples/s]"
      ]
     },
     "metadata": {},
     "output_type": "display_data"
    },
    {
     "data": {
      "application/vnd.jupyter.widget-view+json": {
       "model_id": "66372111481d4cc7a1ee1a32cbbc5d01",
       "version_major": 2,
       "version_minor": 0
      },
      "text/plain": [
       "Filter (num_proc=8):   0%|          | 0/28284 [00:00<?, ? examples/s]"
      ]
     },
     "metadata": {},
     "output_type": "display_data"
    },
    {
     "data": {
      "application/vnd.jupyter.widget-view+json": {
       "model_id": "3647f37f1c064c3da0fbef53f0d92b32",
       "version_major": 2,
       "version_minor": 0
      },
      "text/plain": [
       "Filter (num_proc=8):   0%|          | 0/28284 [00:00<?, ? examples/s]"
      ]
     },
     "metadata": {},
     "output_type": "display_data"
    },
    {
     "data": {
      "application/vnd.jupyter.widget-view+json": {
       "model_id": "4ee13e7a0d3549a6b84ed45b04a8d502",
       "version_major": 2,
       "version_minor": 0
      },
      "text/plain": [
       "Filter (num_proc=8):   0%|          | 0/28284 [00:00<?, ? examples/s]"
      ]
     },
     "metadata": {},
     "output_type": "display_data"
    },
    {
     "data": {
      "application/vnd.jupyter.widget-view+json": {
       "model_id": "3ac56661d94e468a89cbbf4f23429d6b",
       "version_major": 2,
       "version_minor": 0
      },
      "text/plain": [
       "Filter (num_proc=8):   0%|          | 0/28284 [00:00<?, ? examples/s]"
      ]
     },
     "metadata": {},
     "output_type": "display_data"
    },
    {
     "data": {
      "application/vnd.jupyter.widget-view+json": {
       "model_id": "20208a43784343259d8f623c32cfd4c1",
       "version_major": 2,
       "version_minor": 0
      },
      "text/plain": [
       "Filter (num_proc=8):   0%|          | 0/28284 [00:00<?, ? examples/s]"
      ]
     },
     "metadata": {},
     "output_type": "display_data"
    },
    {
     "data": {
      "application/vnd.jupyter.widget-view+json": {
       "model_id": "817238c01292478e9c6fc2ade37d1380",
       "version_major": 2,
       "version_minor": 0
      },
      "text/plain": [
       "Filter (num_proc=8):   0%|          | 0/28284 [00:00<?, ? examples/s]"
      ]
     },
     "metadata": {},
     "output_type": "display_data"
    },
    {
     "data": {
      "application/vnd.jupyter.widget-view+json": {
       "model_id": "7114dea7bbc44e5bab5c88c82b339c4c",
       "version_major": 2,
       "version_minor": 0
      },
      "text/plain": [
       "Filter (num_proc=8):   0%|          | 0/28284 [00:00<?, ? examples/s]"
      ]
     },
     "metadata": {},
     "output_type": "display_data"
    },
    {
     "data": {
      "application/vnd.jupyter.widget-view+json": {
       "model_id": "6400b7fed8304d34ba4d74b3790a4af6",
       "version_major": 2,
       "version_minor": 0
      },
      "text/plain": [
       "Filter (num_proc=8):   0%|          | 0/28284 [00:00<?, ? examples/s]"
      ]
     },
     "metadata": {},
     "output_type": "display_data"
    },
    {
     "data": {
      "application/vnd.jupyter.widget-view+json": {
       "model_id": "273d42a5ba0f48b6a249068f79ceee79",
       "version_major": 2,
       "version_minor": 0
      },
      "text/plain": [
       "Filter (num_proc=8):   0%|          | 0/28284 [00:00<?, ? examples/s]"
      ]
     },
     "metadata": {},
     "output_type": "display_data"
    },
    {
     "data": {
      "application/vnd.jupyter.widget-view+json": {
       "model_id": "afce5cc3b89d401a8b64200f5730faf2",
       "version_major": 2,
       "version_minor": 0
      },
      "text/plain": [
       "Filter (num_proc=8):   0%|          | 0/28284 [00:00<?, ? examples/s]"
      ]
     },
     "metadata": {},
     "output_type": "display_data"
    },
    {
     "data": {
      "application/vnd.jupyter.widget-view+json": {
       "model_id": "7dc846b30e974e06902bfa73a3c786f1",
       "version_major": 2,
       "version_minor": 0
      },
      "text/plain": [
       "Filter (num_proc=8):   0%|          | 0/28284 [00:00<?, ? examples/s]"
      ]
     },
     "metadata": {},
     "output_type": "display_data"
    },
    {
     "data": {
      "application/vnd.jupyter.widget-view+json": {
       "model_id": "7a72e990ec9d4f1192f4f0cdceb6ecbf",
       "version_major": 2,
       "version_minor": 0
      },
      "text/plain": [
       "Filter (num_proc=8):   0%|          | 0/28284 [00:00<?, ? examples/s]"
      ]
     },
     "metadata": {},
     "output_type": "display_data"
    },
    {
     "data": {
      "application/vnd.jupyter.widget-view+json": {
       "model_id": "19aa3203f5e140d9a9200b0bc7f142f3",
       "version_major": 2,
       "version_minor": 0
      },
      "text/plain": [
       "Filter (num_proc=8):   0%|          | 0/28284 [00:00<?, ? examples/s]"
      ]
     },
     "metadata": {},
     "output_type": "display_data"
    },
    {
     "data": {
      "application/vnd.jupyter.widget-view+json": {
       "model_id": "a8d519327c7a42219e112e0b193851f9",
       "version_major": 2,
       "version_minor": 0
      },
      "text/plain": [
       "Filter (num_proc=8):   0%|          | 0/28284 [00:00<?, ? examples/s]"
      ]
     },
     "metadata": {},
     "output_type": "display_data"
    },
    {
     "data": {
      "application/vnd.jupyter.widget-view+json": {
       "model_id": "0286d7660af249e38f224f8a5debd17a",
       "version_major": 2,
       "version_minor": 0
      },
      "text/plain": [
       "Filter (num_proc=8):   0%|          | 0/28284 [00:00<?, ? examples/s]"
      ]
     },
     "metadata": {},
     "output_type": "display_data"
    },
    {
     "data": {
      "application/vnd.jupyter.widget-view+json": {
       "model_id": "0744d9fc65d34024b10d40c6e9747056",
       "version_major": 2,
       "version_minor": 0
      },
      "text/plain": [
       "Filter (num_proc=8):   0%|          | 0/28284 [00:00<?, ? examples/s]"
      ]
     },
     "metadata": {},
     "output_type": "display_data"
    },
    {
     "data": {
      "application/vnd.jupyter.widget-view+json": {
       "model_id": "955862fcf1a24b8183d8b3d3ade15b91",
       "version_major": 2,
       "version_minor": 0
      },
      "text/plain": [
       "Filter (num_proc=8):   0%|          | 0/28284 [00:00<?, ? examples/s]"
      ]
     },
     "metadata": {},
     "output_type": "display_data"
    },
    {
     "data": {
      "application/vnd.jupyter.widget-view+json": {
       "model_id": "478d91fcab154a8cbfd054a5bc431605",
       "version_major": 2,
       "version_minor": 0
      },
      "text/plain": [
       "Filter (num_proc=8):   0%|          | 0/28284 [00:00<?, ? examples/s]"
      ]
     },
     "metadata": {},
     "output_type": "display_data"
    },
    {
     "data": {
      "application/vnd.jupyter.widget-view+json": {
       "model_id": "55f43f83a2c24edfad1fc409588c0de3",
       "version_major": 2,
       "version_minor": 0
      },
      "text/plain": [
       "Filter (num_proc=8):   0%|          | 0/28284 [00:00<?, ? examples/s]"
      ]
     },
     "metadata": {},
     "output_type": "display_data"
    },
    {
     "data": {
      "application/vnd.jupyter.widget-view+json": {
       "model_id": "a9d4916e65314ef494d65f2b278c3705",
       "version_major": 2,
       "version_minor": 0
      },
      "text/plain": [
       "Filter (num_proc=8):   0%|          | 0/28284 [00:00<?, ? examples/s]"
      ]
     },
     "metadata": {},
     "output_type": "display_data"
    },
    {
     "data": {
      "application/vnd.jupyter.widget-view+json": {
       "model_id": "cb1ba74ede5f41ac89ec5260b4298f09",
       "version_major": 2,
       "version_minor": 0
      },
      "text/plain": [
       "Filter (num_proc=8):   0%|          | 0/28284 [00:00<?, ? examples/s]"
      ]
     },
     "metadata": {},
     "output_type": "display_data"
    },
    {
     "data": {
      "application/vnd.jupyter.widget-view+json": {
       "model_id": "0b80bf6cdcd641b39d7868320c8f189a",
       "version_major": 2,
       "version_minor": 0
      },
      "text/plain": [
       "Filter (num_proc=8):   0%|          | 0/28284 [00:00<?, ? examples/s]"
      ]
     },
     "metadata": {},
     "output_type": "display_data"
    },
    {
     "data": {
      "application/vnd.jupyter.widget-view+json": {
       "model_id": "45f9921ad74643949a12082a899c9592",
       "version_major": 2,
       "version_minor": 0
      },
      "text/plain": [
       "Filter (num_proc=8):   0%|          | 0/28284 [00:00<?, ? examples/s]"
      ]
     },
     "metadata": {},
     "output_type": "display_data"
    },
    {
     "data": {
      "application/vnd.jupyter.widget-view+json": {
       "model_id": "b19f83effb004ec199326d77c21132a9",
       "version_major": 2,
       "version_minor": 0
      },
      "text/plain": [
       "Filter (num_proc=8):   0%|          | 0/28284 [00:00<?, ? examples/s]"
      ]
     },
     "metadata": {},
     "output_type": "display_data"
    },
    {
     "data": {
      "application/vnd.jupyter.widget-view+json": {
       "model_id": "bd49d6e663544e1c9af89c05bd64403d",
       "version_major": 2,
       "version_minor": 0
      },
      "text/plain": [
       "Filter (num_proc=8):   0%|          | 0/28284 [00:00<?, ? examples/s]"
      ]
     },
     "metadata": {},
     "output_type": "display_data"
    },
    {
     "data": {
      "application/vnd.jupyter.widget-view+json": {
       "model_id": "0e68459d4332492497ddec3a59bcfe6a",
       "version_major": 2,
       "version_minor": 0
      },
      "text/plain": [
       "Filter (num_proc=8):   0%|          | 0/28284 [00:00<?, ? examples/s]"
      ]
     },
     "metadata": {},
     "output_type": "display_data"
    },
    {
     "data": {
      "application/vnd.jupyter.widget-view+json": {
       "model_id": "001542e871f7466fbe97a7f4cf20b3a2",
       "version_major": 2,
       "version_minor": 0
      },
      "text/plain": [
       "Filter (num_proc=8):   0%|          | 0/28284 [00:00<?, ? examples/s]"
      ]
     },
     "metadata": {},
     "output_type": "display_data"
    },
    {
     "data": {
      "application/vnd.jupyter.widget-view+json": {
       "model_id": "83b12a1cf1744ea998f7050fe4cdb56e",
       "version_major": 2,
       "version_minor": 0
      },
      "text/plain": [
       "Filter (num_proc=8):   0%|          | 0/28284 [00:00<?, ? examples/s]"
      ]
     },
     "metadata": {},
     "output_type": "display_data"
    },
    {
     "data": {
      "application/vnd.jupyter.widget-view+json": {
       "model_id": "81fb33fc837f4658b7ab63d0f59c54fb",
       "version_major": 2,
       "version_minor": 0
      },
      "text/plain": [
       "Filter (num_proc=8):   0%|          | 0/28284 [00:00<?, ? examples/s]"
      ]
     },
     "metadata": {},
     "output_type": "display_data"
    },
    {
     "data": {
      "application/vnd.jupyter.widget-view+json": {
       "model_id": "dd5ad95b9d24474db270a1282fa7e224",
       "version_major": 2,
       "version_minor": 0
      },
      "text/plain": [
       "Filter (num_proc=8):   0%|          | 0/28284 [00:00<?, ? examples/s]"
      ]
     },
     "metadata": {},
     "output_type": "display_data"
    },
    {
     "data": {
      "application/vnd.jupyter.widget-view+json": {
       "model_id": "47628624a02c4ef39551972b50594eae",
       "version_major": 2,
       "version_minor": 0
      },
      "text/plain": [
       "Filter (num_proc=8):   0%|          | 0/28284 [00:00<?, ? examples/s]"
      ]
     },
     "metadata": {},
     "output_type": "display_data"
    },
    {
     "data": {
      "application/vnd.jupyter.widget-view+json": {
       "model_id": "da2e565720d54bbd91b4b8a83403c0fb",
       "version_major": 2,
       "version_minor": 0
      },
      "text/plain": [
       "Filter (num_proc=8):   0%|          | 0/28284 [00:00<?, ? examples/s]"
      ]
     },
     "metadata": {},
     "output_type": "display_data"
    },
    {
     "data": {
      "application/vnd.jupyter.widget-view+json": {
       "model_id": "508e28d5039a4a91a6a202b2a7aa0748",
       "version_major": 2,
       "version_minor": 0
      },
      "text/plain": [
       "Filter (num_proc=8):   0%|          | 0/28284 [00:00<?, ? examples/s]"
      ]
     },
     "metadata": {},
     "output_type": "display_data"
    },
    {
     "data": {
      "application/vnd.jupyter.widget-view+json": {
       "model_id": "c557f8a810264333aeb041a0b2cdc8d6",
       "version_major": 2,
       "version_minor": 0
      },
      "text/plain": [
       "Filter (num_proc=8):   0%|          | 0/28284 [00:00<?, ? examples/s]"
      ]
     },
     "metadata": {},
     "output_type": "display_data"
    },
    {
     "data": {
      "application/vnd.jupyter.widget-view+json": {
       "model_id": "917613d066354718bf623e73ec6be650",
       "version_major": 2,
       "version_minor": 0
      },
      "text/plain": [
       "Filter (num_proc=8):   0%|          | 0/28284 [00:00<?, ? examples/s]"
      ]
     },
     "metadata": {},
     "output_type": "display_data"
    },
    {
     "data": {
      "application/vnd.jupyter.widget-view+json": {
       "model_id": "3c9d145f6c4441eca69cc4cbaf159718",
       "version_major": 2,
       "version_minor": 0
      },
      "text/plain": [
       "Filter (num_proc=8):   0%|          | 0/28284 [00:00<?, ? examples/s]"
      ]
     },
     "metadata": {},
     "output_type": "display_data"
    },
    {
     "data": {
      "application/vnd.jupyter.widget-view+json": {
       "model_id": "17ea49d6fb0447fa850a4730bcc3f96a",
       "version_major": 2,
       "version_minor": 0
      },
      "text/plain": [
       "Filter (num_proc=8):   0%|          | 0/28284 [00:00<?, ? examples/s]"
      ]
     },
     "metadata": {},
     "output_type": "display_data"
    },
    {
     "data": {
      "application/vnd.jupyter.widget-view+json": {
       "model_id": "cf34de6c4d7a4347a498f13612560b88",
       "version_major": 2,
       "version_minor": 0
      },
      "text/plain": [
       "Filter (num_proc=8):   0%|          | 0/28284 [00:00<?, ? examples/s]"
      ]
     },
     "metadata": {},
     "output_type": "display_data"
    },
    {
     "data": {
      "application/vnd.jupyter.widget-view+json": {
       "model_id": "fb01a458b9cc426d90fc82ef66854f4a",
       "version_major": 2,
       "version_minor": 0
      },
      "text/plain": [
       "Filter (num_proc=8):   0%|          | 0/28284 [00:00<?, ? examples/s]"
      ]
     },
     "metadata": {},
     "output_type": "display_data"
    },
    {
     "data": {
      "application/vnd.jupyter.widget-view+json": {
       "model_id": "438bf3cc92c34b3aac26e2fe329961af",
       "version_major": 2,
       "version_minor": 0
      },
      "text/plain": [
       "Filter (num_proc=8):   0%|          | 0/28284 [00:00<?, ? examples/s]"
      ]
     },
     "metadata": {},
     "output_type": "display_data"
    },
    {
     "data": {
      "application/vnd.jupyter.widget-view+json": {
       "model_id": "3916bcdbd5534f6e93f8fe2a5b742914",
       "version_major": 2,
       "version_minor": 0
      },
      "text/plain": [
       "Filter (num_proc=8):   0%|          | 0/28284 [00:00<?, ? examples/s]"
      ]
     },
     "metadata": {},
     "output_type": "display_data"
    }
   ],
   "source": [
    "sampled_dataset = Dataset.from_dict({\"input_values\": [], \"label\": []})\n",
    "\n",
    "for label in selected_labels:\n",
    "    temp_dataset = dataset.filter(\n",
    "        lambda row: row[\"label\"] == label,\n",
    "        batched = False,\n",
    "        num_proc = 8,\n",
    "        writer_batch_size = 50\n",
    "    )\n",
    "    temp_dataset = temp_dataset.shuffle(seed = 42).select(range(350))\n",
    "    sampled_dataset = concatenate_datasets([sampled_dataset, temp_dataset])\n",
    "\n",
    "del temp_dataset\n",
    "sampled_dataset = sampled_dataset.shuffle(seed = 42)"
   ]
  },
  {
   "cell_type": "code",
   "execution_count": 19,
   "id": "d7f5702e-6293-479b-948d-19daa14f17ef",
   "metadata": {},
   "outputs": [
    {
     "data": {
      "application/vnd.jupyter.widget-view+json": {
       "model_id": "c3e3646e81d7434b9a1ccd7e4a4e4b72",
       "version_major": 2,
       "version_minor": 0
      },
      "text/plain": [
       "Flattening the indices:   0%|          | 0/18900 [00:00<?, ? examples/s]"
      ]
     },
     "metadata": {},
     "output_type": "display_data"
    },
    {
     "data": {
      "application/vnd.jupyter.widget-view+json": {
       "model_id": "1ac47c53c1c243e58562345551029843",
       "version_major": 2,
       "version_minor": 0
      },
      "text/plain": [
       "Casting to class labels:   0%|          | 0/18900 [00:00<?, ? examples/s]"
      ]
     },
     "metadata": {},
     "output_type": "display_data"
    }
   ],
   "source": [
    "dataset = sampled_dataset.class_encode_column(\"label\")\n",
    "del sampled_dataset"
   ]
  },
  {
   "cell_type": "code",
   "execution_count": 20,
   "id": "40bd75e0-8a5f-4f73-8ec5-f60ed9d0cee0",
   "metadata": {},
   "outputs": [],
   "source": [
    "labels = dataset.features[\"label\"].names\n",
    "label2id, id2label = dict(), dict()\n",
    "for i, label in enumerate(labels):\n",
    "    label2id[label] = str(i)\n",
    "    id2label[str(i)] = label"
   ]
  },
  {
   "cell_type": "code",
   "execution_count": 21,
   "id": "ab3c7f42-0625-426f-987e-4bd80d033fd3",
   "metadata": {},
   "outputs": [],
   "source": [
    "dataset = dataset.train_test_split(test_size = 0.2)"
   ]
  },
  {
   "cell_type": "code",
   "execution_count": 22,
   "id": "14083e1e-703b-413c-81cc-0d411ba67834",
   "metadata": {},
   "outputs": [
    {
     "name": "stderr",
     "output_type": "stream",
     "text": [
      "/users/labnet5/gr5/abahari/Documents/Fridays/BirdCallLabeling/env-labeling/lib/python3.11/site-packages/huggingface_hub/file_download.py:797: FutureWarning: `resume_download` is deprecated and will be removed in version 1.0.0. Downloads always resume when possible. If you want to force a new download, use `force_download=True`.\n",
      "  warnings.warn(\n"
     ]
    },
    {
     "data": {
      "application/vnd.jupyter.widget-view+json": {
       "model_id": "734a2661d2c64565a75e2c31a13bc7bb",
       "version_major": 2,
       "version_minor": 0
      },
      "text/plain": [
       "config.json:   0%|          | 0.00/24.9k [00:00<?, ?B/s]"
      ]
     },
     "metadata": {},
     "output_type": "display_data"
    },
    {
     "data": {
      "application/vnd.jupyter.widget-view+json": {
       "model_id": "50252fe7e74748e9ab58e97158927322",
       "version_major": 2,
       "version_minor": 0
      },
      "text/plain": [
       "class_labels_indices.csv:   0%|          | 0.00/14.7k [00:00<?, ?B/s]"
      ]
     },
     "metadata": {},
     "output_type": "display_data"
    },
    {
     "data": {
      "application/vnd.jupyter.widget-view+json": {
       "model_id": "72a3c00081fe4ee996ccdae4c8fc7cf3",
       "version_major": 2,
       "version_minor": 0
      },
      "text/plain": [
       "model.safetensors:   0%|          | 0.00/343M [00:00<?, ?B/s]"
      ]
     },
     "metadata": {},
     "output_type": "display_data"
    },
    {
     "name": "stderr",
     "output_type": "stream",
     "text": [
      "Some weights of CedForAudioClassification were not initialized from the model checkpoint at mispeech/ced-base and are newly initialized because the shapes did not match:\n",
      "- outputlayer.1.bias: found shape torch.Size([527]) in the checkpoint and torch.Size([54]) in the model instantiated\n",
      "- outputlayer.1.weight: found shape torch.Size([527, 768]) in the checkpoint and torch.Size([54, 768]) in the model instantiated\n",
      "You should probably TRAIN this model on a down-stream task to be able to use it for predictions and inference.\n"
     ]
    }
   ],
   "source": [
    "from ced_model.modeling_ced import CedForAudioClassification\n",
    "\n",
    "model = CedForAudioClassification.from_pretrained(\n",
    "    \"mispeech/ced-base\",\n",
    "    outputdim = len(id2label),\n",
    "    ignore_mismatched_sizes = True,\n",
    "    num_labels = len(id2label),\n",
    "    label2id = label2id,\n",
    "    id2label = id2label\n",
    ")\n",
    "\n",
    "model.freeze_encoder()\n",
    "model.config.loss = \"CrossEntropyLoss\""
   ]
  },
  {
   "cell_type": "code",
   "execution_count": 23,
   "id": "d8ed77d8-92b0-49ba-b85b-89543a3ba25a",
   "metadata": {},
   "outputs": [],
   "source": [
    "# model.config"
   ]
  },
  {
   "cell_type": "code",
   "execution_count": 24,
   "id": "cb62daf0-77fb-4b37-a9fa-b8951ace128f",
   "metadata": {},
   "outputs": [
    {
     "data": {
      "application/vnd.jupyter.widget-view+json": {
       "model_id": "99475d1468c54a35a25d95e4907b5dde",
       "version_major": 2,
       "version_minor": 0
      },
      "text/plain": [
       "Downloading builder script:   0%|          | 0.00/4.20k [00:00<?, ?B/s]"
      ]
     },
     "metadata": {},
     "output_type": "display_data"
    }
   ],
   "source": [
    "accuracy = evaluate.load(\"accuracy\")"
   ]
  },
  {
   "cell_type": "code",
   "execution_count": 25,
   "id": "989ee758-2e1b-45c6-ad9f-343139d125fb",
   "metadata": {},
   "outputs": [],
   "source": [
    "def compute_metrics(eval_pred):\n",
    "    predictions = np.argmax(eval_pred.predictions[0], axis = 1)\n",
    "    return accuracy.compute(predictions = predictions, references = eval_pred.label_ids)"
   ]
  },
  {
   "cell_type": "code",
   "execution_count": 26,
   "id": "38fb3141-e455-469f-b799-d0073fa522e1",
   "metadata": {},
   "outputs": [
    {
     "data": {
      "text/html": [
       "\n",
       "    <div>\n",
       "      \n",
       "      <progress value='4730' max='4730' style='width:300px; height:20px; vertical-align: middle;'></progress>\n",
       "      [4730/4730 28:38, Epoch 10/10]\n",
       "    </div>\n",
       "    <table border=\"1\" class=\"dataframe\">\n",
       "  <thead>\n",
       " <tr style=\"text-align: left;\">\n",
       "      <th>Epoch</th>\n",
       "      <th>Training Loss</th>\n",
       "      <th>Validation Loss</th>\n",
       "      <th>Accuracy</th>\n",
       "    </tr>\n",
       "  </thead>\n",
       "  <tbody>\n",
       "    <tr>\n",
       "      <td>1</td>\n",
       "      <td>3.351000</td>\n",
       "      <td>3.347308</td>\n",
       "      <td>0.608466</td>\n",
       "    </tr>\n",
       "    <tr>\n",
       "      <td>2</td>\n",
       "      <td>3.283300</td>\n",
       "      <td>3.278616</td>\n",
       "      <td>0.652910</td>\n",
       "    </tr>\n",
       "    <tr>\n",
       "      <td>3</td>\n",
       "      <td>3.212400</td>\n",
       "      <td>3.246526</td>\n",
       "      <td>0.692063</td>\n",
       "    </tr>\n",
       "    <tr>\n",
       "      <td>4</td>\n",
       "      <td>3.195800</td>\n",
       "      <td>3.230722</td>\n",
       "      <td>0.700529</td>\n",
       "    </tr>\n",
       "    <tr>\n",
       "      <td>5</td>\n",
       "      <td>3.198300</td>\n",
       "      <td>3.218142</td>\n",
       "      <td>0.722487</td>\n",
       "    </tr>\n",
       "    <tr>\n",
       "      <td>6</td>\n",
       "      <td>3.181000</td>\n",
       "      <td>3.211842</td>\n",
       "      <td>0.732011</td>\n",
       "    </tr>\n",
       "    <tr>\n",
       "      <td>7</td>\n",
       "      <td>3.184000</td>\n",
       "      <td>3.206649</td>\n",
       "      <td>0.741270</td>\n",
       "    </tr>\n",
       "    <tr>\n",
       "      <td>8</td>\n",
       "      <td>3.165200</td>\n",
       "      <td>3.203164</td>\n",
       "      <td>0.748942</td>\n",
       "    </tr>\n",
       "    <tr>\n",
       "      <td>9</td>\n",
       "      <td>3.156900</td>\n",
       "      <td>3.201262</td>\n",
       "      <td>0.747619</td>\n",
       "    </tr>\n",
       "    <tr>\n",
       "      <td>10</td>\n",
       "      <td>3.169300</td>\n",
       "      <td>3.201169</td>\n",
       "      <td>0.748413</td>\n",
       "    </tr>\n",
       "  </tbody>\n",
       "</table><p>"
      ],
      "text/plain": [
       "<IPython.core.display.HTML object>"
      ]
     },
     "metadata": {},
     "output_type": "display_data"
    },
    {
     "name": "stderr",
     "output_type": "stream",
     "text": [
      "/users/labnet5/gr5/abahari/Documents/Fridays/BirdCallLabeling/env-labeling/lib/python3.11/site-packages/huggingface_hub/file_download.py:797: FutureWarning: `resume_download` is deprecated and will be removed in version 1.0.0. Downloads always resume when possible. If you want to force a new download, use `force_download=True`.\n",
      "  warnings.warn(\n",
      "/users/labnet5/gr5/abahari/Documents/Fridays/BirdCallLabeling/env-labeling/lib/python3.11/site-packages/huggingface_hub/file_download.py:797: FutureWarning: `resume_download` is deprecated and will be removed in version 1.0.0. Downloads always resume when possible. If you want to force a new download, use `force_download=True`.\n",
      "  warnings.warn(\n",
      "/users/labnet5/gr5/abahari/Documents/Fridays/BirdCallLabeling/env-labeling/lib/python3.11/site-packages/huggingface_hub/file_download.py:797: FutureWarning: `resume_download` is deprecated and will be removed in version 1.0.0. Downloads always resume when possible. If you want to force a new download, use `force_download=True`.\n",
      "  warnings.warn(\n",
      "/users/labnet5/gr5/abahari/Documents/Fridays/BirdCallLabeling/env-labeling/lib/python3.11/site-packages/huggingface_hub/file_download.py:797: FutureWarning: `resume_download` is deprecated and will be removed in version 1.0.0. Downloads always resume when possible. If you want to force a new download, use `force_download=True`.\n",
      "  warnings.warn(\n",
      "/users/labnet5/gr5/abahari/Documents/Fridays/BirdCallLabeling/env-labeling/lib/python3.11/site-packages/huggingface_hub/file_download.py:797: FutureWarning: `resume_download` is deprecated and will be removed in version 1.0.0. Downloads always resume when possible. If you want to force a new download, use `force_download=True`.\n",
      "  warnings.warn(\n",
      "/users/labnet5/gr5/abahari/Documents/Fridays/BirdCallLabeling/env-labeling/lib/python3.11/site-packages/huggingface_hub/file_download.py:797: FutureWarning: `resume_download` is deprecated and will be removed in version 1.0.0. Downloads always resume when possible. If you want to force a new download, use `force_download=True`.\n",
      "  warnings.warn(\n",
      "/users/labnet5/gr5/abahari/Documents/Fridays/BirdCallLabeling/env-labeling/lib/python3.11/site-packages/huggingface_hub/file_download.py:797: FutureWarning: `resume_download` is deprecated and will be removed in version 1.0.0. Downloads always resume when possible. If you want to force a new download, use `force_download=True`.\n",
      "  warnings.warn(\n",
      "/users/labnet5/gr5/abahari/Documents/Fridays/BirdCallLabeling/env-labeling/lib/python3.11/site-packages/huggingface_hub/file_download.py:797: FutureWarning: `resume_download` is deprecated and will be removed in version 1.0.0. Downloads always resume when possible. If you want to force a new download, use `force_download=True`.\n",
      "  warnings.warn(\n",
      "/users/labnet5/gr5/abahari/Documents/Fridays/BirdCallLabeling/env-labeling/lib/python3.11/site-packages/huggingface_hub/file_download.py:797: FutureWarning: `resume_download` is deprecated and will be removed in version 1.0.0. Downloads always resume when possible. If you want to force a new download, use `force_download=True`.\n",
      "  warnings.warn(\n",
      "/users/labnet5/gr5/abahari/Documents/Fridays/BirdCallLabeling/env-labeling/lib/python3.11/site-packages/huggingface_hub/file_download.py:797: FutureWarning: `resume_download` is deprecated and will be removed in version 1.0.0. Downloads always resume when possible. If you want to force a new download, use `force_download=True`.\n",
      "  warnings.warn(\n"
     ]
    },
    {
     "data": {
      "text/plain": [
       "TrainOutput(global_step=4730, training_loss=3.2314738574038095, metrics={'train_runtime': 1745.9094, 'train_samples_per_second': 86.602, 'train_steps_per_second': 2.709, 'total_flos': 4.960329810173338e+18, 'train_loss': 3.2314738574038095, 'epoch': 10.0})"
      ]
     },
     "execution_count": 26,
     "metadata": {},
     "output_type": "execute_result"
    }
   ],
   "source": [
    "training_args = TrainingArguments(\n",
    "    output_dir = \"checkpoints-10-2\",\n",
    "    evaluation_strategy = \"epoch\",\n",
    "    save_strategy = \"epoch\",\n",
    "    learning_rate = 2e-3,               # 3e-4, 5e-4\n",
    "    per_device_train_batch_size = 32,   # 8\n",
    "    # gradient_accumulation_steps = 4,\n",
    "    eval_accumulation_steps = 2,\n",
    "    per_device_eval_batch_size = 32,    # 8\n",
    "    num_train_epochs = 10,\n",
    "    warmup_ratio = 0,\n",
    "    logging_steps = 10,\n",
    "    load_best_model_at_end = True,\n",
    "    metric_for_best_model = \"eval_loss\",\n",
    "    dataloader_num_workers = 16\n",
    "    # fp16 = True\n",
    ")\n",
    "\n",
    "trainer = Trainer(\n",
    "    model = model,\n",
    "    args = training_args,\n",
    "    train_dataset = dataset[\"train\"],\n",
    "    eval_dataset = dataset[\"test\"],\n",
    "    tokenizer = extractor,\n",
    "    compute_metrics = compute_metrics\n",
    ")\n",
    "\n",
    "trainer.train()"
   ]
  },
  {
   "cell_type": "code",
   "execution_count": null,
   "id": "9c792f2d-6e0b-4ab2-9737-643053283513",
   "metadata": {},
   "outputs": [],
   "source": []
  },
  {
   "cell_type": "code",
   "execution_count": null,
   "id": "35466ee6-285a-44dc-854f-04a3493cb710",
   "metadata": {},
   "outputs": [],
   "source": []
  },
  {
   "cell_type": "code",
   "execution_count": null,
   "id": "044540a4-35db-402c-b1c2-0fa95c83b79c",
   "metadata": {},
   "outputs": [],
   "source": []
  }
 ],
 "metadata": {
  "kernelspec": {
   "display_name": "env-labeling",
   "language": "python",
   "name": "env-labeling"
  },
  "language_info": {
   "codemirror_mode": {
    "name": "ipython",
    "version": 3
   },
   "file_extension": ".py",
   "mimetype": "text/x-python",
   "name": "python",
   "nbconvert_exporter": "python",
   "pygments_lexer": "ipython3",
   "version": "3.11.0rc1"
  }
 },
 "nbformat": 4,
 "nbformat_minor": 5
}
