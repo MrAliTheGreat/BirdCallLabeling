{
 "cells": [
  {
   "cell_type": "code",
   "execution_count": null,
   "id": "c5890382-afb5-47eb-99d9-db9230ac491e",
   "metadata": {},
   "outputs": [],
   "source": []
  }
 ],
 "metadata": {
  "kernelspec": {
   "display_name": "env-labeling",
   "language": "python",
   "name": "env-labeling"
  },
  "language_info": {
   "codemirror_mode": {
    "name": "ipython",
    "version": 3
   },
   "file_extension": ".py",
   "mimetype": "text/x-python",
   "name": "python",
   "nbconvert_exporter": "python",
   "pygments_lexer": "ipython3",
   "version": "3.11.0rc1"
  }
 },
 "nbformat": 4,
 "nbformat_minor": 5
}
